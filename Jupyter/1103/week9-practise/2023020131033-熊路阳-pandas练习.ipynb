{
 "cells": [
  {
   "cell_type": "markdown",
   "id": "4428694c",
   "metadata": {},
   "source": [
    "## 学号 姓名 pandas练习1"
   ]
  },
  {
   "cell_type": "markdown",
   "id": "455aaf5b",
   "metadata": {},
   "source": [
    "### 一、Series基本操作"
   ]
  },
  {
   "cell_type": "markdown",
   "id": "6f51092e",
   "metadata": {},
   "source": [
    "#### 1. 使用list构造一个 Series，列表内容自定义，长度建议为5-8个元素"
   ]
  },
  {
   "cell_type": "code",
   "execution_count": 3,
   "id": "5c8132f0",
   "metadata": {},
   "outputs": [
    {
     "name": "stdout",
     "output_type": "stream",
     "text": [
      "0    10\n",
      "1    20\n",
      "2    30\n",
      "3    40\n",
      "4    50\n",
      "dtype: int64\n"
     ]
    }
   ],
   "source": [
    "import pandas as pd\n",
    "\n",
    "data = [10, 20, 30, 40, 50]\n",
    "my_series = pd.Series(data)\n",
    "\n",
    "print(my_series)\n"
   ]
  },
  {
   "cell_type": "markdown",
   "id": "b19e3656",
   "metadata": {},
   "source": [
    "#### 2. 访问Series对象的values属性和index属性"
   ]
  },
  {
   "cell_type": "code",
   "execution_count": 4,
   "id": "e006d72b",
   "metadata": {},
   "outputs": [
    {
     "name": "stdout",
     "output_type": "stream",
     "text": [
      "[10 20 30 40 50]\n",
      "RangeIndex(start=0, stop=5, step=1)\n"
     ]
    }
   ],
   "source": [
    "series_values = my_series.values\n",
    "print(series_values)\n",
    "\n",
    "series_index = my_series.index\n",
    "print(series_index)"
   ]
  },
  {
   "cell_type": "markdown",
   "id": "9c5718fe",
   "metadata": {},
   "source": [
    "#### 3. 任意访问单个元素值"
   ]
  },
  {
   "cell_type": "code",
   "execution_count": 7,
   "id": "0b241f57",
   "metadata": {},
   "outputs": [
    {
     "name": "stdout",
     "output_type": "stream",
     "text": [
      "20\n"
     ]
    }
   ],
   "source": [
    "element_A = my_series[1]\n",
    "# 访问第二个元素的值\n",
    "print( element_A)"
   ]
  },
  {
   "cell_type": "markdown",
   "id": "9be5812d",
   "metadata": {},
   "source": [
    "#### 4. 通过index列表选择Series对象的多个元素值"
   ]
  },
  {
   "cell_type": "code",
   "execution_count": 8,
   "id": "b8c4d10e",
   "metadata": {},
   "outputs": [
    {
     "name": "stdout",
     "output_type": "stream",
     "text": [
      "0    10\n",
      "1    20\n",
      "dtype: int64\n"
     ]
    }
   ],
   "source": [
    "selected_elements = my_series[0:2] \n",
    "\n",
    "print(selected_elements)"
   ]
  },
  {
   "cell_type": "markdown",
   "id": "b2dd85ca",
   "metadata": {},
   "source": [
    "#### 5. 通过赋值改变Series对象的index，使其为以小写字母'a'开始的连续字符"
   ]
  },
  {
   "cell_type": "code",
   "execution_count": 9,
   "id": "bd5759c0",
   "metadata": {},
   "outputs": [
    {
     "name": "stdout",
     "output_type": "stream",
     "text": [
      "a    10\n",
      "b    20\n",
      "c    30\n",
      "d    40\n",
      "e    50\n",
      "dtype: int64\n"
     ]
    }
   ],
   "source": [
    "new_index = list(chr(i) for i in range(ord('a'), ord('a') + len(my_series)))\n",
    "my_series.index = new_index\n",
    "\n",
    "print(my_series)"
   ]
  },
  {
   "cell_type": "markdown",
   "id": "9782c92c",
   "metadata": {},
   "source": [
    "#### 6. 通过赋值改变Series对象value"
   ]
  },
  {
   "cell_type": "code",
   "execution_count": 11,
   "id": "1319a7b9",
   "metadata": {},
   "outputs": [
    {
     "name": "stdout",
     "output_type": "stream",
     "text": [
      "a    10\n",
      "b    25\n",
      "c    30\n",
      "d    40\n",
      "e    50\n",
      "B    25\n",
      "dtype: int64\n"
     ]
    }
   ],
   "source": [
    "my_series['b'] = 25\n",
    "print(my_series)"
   ]
  },
  {
   "cell_type": "markdown",
   "id": "45171b09",
   "metadata": {},
   "source": [
    "#### 7. 基于字典创建Series对象，字典内容为自定义的一组学生的信息（学号、姓名、年龄、性别……），字典元素5-8个"
   ]
  },
  {
   "cell_type": "code",
   "execution_count": 12,
   "id": "d908074f",
   "metadata": {},
   "outputs": [
    {
     "name": "stdout",
     "output_type": "stream",
     "text": [
      "学号    2023020131033\n",
      "姓名              熊路阳\n",
      "年龄               22\n",
      "性别                男\n",
      "专业         计算机科学与技术\n",
      "dtype: object\n"
     ]
    }
   ],
   "source": [
    "student_info = {\n",
    "    '学号': '2023020131033',\n",
    "    '姓名': '熊路阳',\n",
    "    '年龄': 22,\n",
    "    '性别': '男',\n",
    "    '专业': '计算机科学与技术',\n",
    "}\n",
    "\n",
    "student_series = pd.Series(student_info)\n",
    "\n",
    "print(student_series)"
   ]
  },
  {
   "cell_type": "markdown",
   "id": "8371e934",
   "metadata": {},
   "source": [
    "#### 8. 创建一个指定index属性的Series对象，内容长度请自定义"
   ]
  },
  {
   "cell_type": "code",
   "execution_count": 13,
   "id": "df27bd57",
   "metadata": {},
   "outputs": [
    {
     "name": "stdout",
     "output_type": "stream",
     "text": [
      "A    10\n",
      "B    20\n",
      "C    30\n",
      "D    40\n",
      "E    50\n",
      "dtype: int64\n"
     ]
    }
   ],
   "source": [
    "custom_index = ['A', 'B', 'C', 'D', 'E']\n",
    "custom_data = [10, 20, 30, 40, 50]\n",
    "\n",
    "custom_series = pd.Series(custom_data, index=custom_index)\n",
    "\n",
    "print(custom_series)"
   ]
  },
  {
   "cell_type": "markdown",
   "id": "830af58b",
   "metadata": {},
   "source": [
    "### 二、DataFrame基本操作"
   ]
  },
  {
   "cell_type": "markdown",
   "id": "d742acc6",
   "metadata": {},
   "source": [
    "#### 1. 基于字典构造一个DataFrame对象，字典内容自定义，长度建议为5-8个元素"
   ]
  },
  {
   "cell_type": "code",
   "execution_count": 15,
   "id": "17534056",
   "metadata": {},
   "outputs": [
    {
     "name": "stdout",
     "output_type": "stream",
     "text": [
      "              学号   姓名  年龄 性别        专业\n",
      "0  2023020131033  熊路阳  20  男  计算机科学与技术\n",
      "1  2023020131033  熊路阳  22  男  计算机科学与技术\n",
      "2  2023020131033  熊路阳  21  男  计算机科学与技术\n",
      "3  2023020131033  熊路阳  23  男  计算机科学与技术\n",
      "4  2023020131033  熊路阳  19  男  计算机科学与技术\n"
     ]
    }
   ],
   "source": [
    "student_data = {\n",
    "    '学号': ['2023020131033', '2023020131033', '2023020131033', '2023020131033', '2023020131033'],\n",
    "    '姓名': ['熊路阳', '熊路阳', '熊路阳', '熊路阳', '熊路阳'],\n",
    "    '年龄': [20, 22, 21, 23, 19],\n",
    "    '性别': ['男', '男', '男', '男', '男'],\n",
    "    '专业': ['计算机科学与技术', '计算机科学与技术', '计算机科学与技术', '计算机科学与技术', '计算机科学与技术']\n",
    "}\n",
    "\n",
    "\n",
    "student_df = pd.DataFrame(student_data)\n",
    "\n",
    "print(student_df)"
   ]
  },
  {
   "cell_type": "markdown",
   "id": "1899f727",
   "metadata": {},
   "source": [
    "#### 2. 获取DataFrame对象的任意一列，并且查看其类型"
   ]
  },
  {
   "cell_type": "code",
   "execution_count": 16,
   "id": "a727390c",
   "metadata": {},
   "outputs": [
    {
     "name": "stdout",
     "output_type": "stream",
     "text": [
      "int64\n"
     ]
    }
   ],
   "source": [
    "student_df = pd.DataFrame(student_data)\n",
    "\n",
    "# 获取学生的年龄列并查看其数据类型\n",
    "age_column = student_df['年龄']\n",
    "data_type = age_column.dtype\n",
    "\n",
    "print(data_type)"
   ]
  },
  {
   "cell_type": "markdown",
   "id": "ac4ca487",
   "metadata": {},
   "source": [
    "#### 3. DataFrame对象具有一些基本的统计方法，它们是按列进行计算的，返回的结果是一个Series对象。 要求计算每列的均值和每列之和。"
   ]
  },
  {
   "cell_type": "code",
   "execution_count": 17,
   "id": "4805d260",
   "metadata": {},
   "outputs": [
    {
     "name": "stdout",
     "output_type": "stream",
     "text": [
      "每列的均值:\n",
      "学号    4.046040e+63\n",
      "年龄    2.100000e+01\n",
      "dtype: float64\n",
      "\n",
      "每列的和:\n",
      "学号    2023020131033202302013103320230201310332023020...\n",
      "姓名                                      熊路阳熊路阳熊路阳熊路阳熊路阳\n",
      "年龄                                                  105\n",
      "性别                                                男男男男男\n",
      "专业             计算机科学与技术计算机科学与技术计算机科学与技术计算机科学与技术计算机科学与技术\n",
      "dtype: object\n"
     ]
    },
    {
     "name": "stderr",
     "output_type": "stream",
     "text": [
      "/var/folders/d8/q_sbp9c924g_pry9slgnndmc0000gn/T/ipykernel_60516/2292910361.py:4: FutureWarning: The default value of numeric_only in DataFrame.mean is deprecated. In a future version, it will default to False. In addition, specifying 'numeric_only=None' is deprecated. Select only valid columns or specify the value of numeric_only to silence this warning.\n",
      "  column_means = student_df.mean()\n"
     ]
    }
   ],
   "source": [
    "student_df = pd.DataFrame(student_data)\n",
    "\n",
    "# 计算每列的均值\n",
    "column_means = student_df.mean()\n",
    "\n",
    "# 计算每列的和\n",
    "column_sums = student_df.sum()\n",
    "\n",
    "print(\"每列的均值:\")\n",
    "print(column_means)\n",
    "\n",
    "print(\"\\n每列的和:\")\n",
    "print(column_sums)"
   ]
  },
  {
   "cell_type": "markdown",
   "id": "8bb4a3b2",
   "metadata": {},
   "source": [
    "### 三、综合练习"
   ]
  },
  {
   "cell_type": "markdown",
   "id": "b8af9e39",
   "metadata": {},
   "source": [
    "1. 创建一个DataFrame表示5位同学（张兰，李明等）,具体要求如下：\n",
    " - 数据集列名（共7列）：姓名、学号、班级、性别、年龄、期中成绩、期末成绩\n",
    " - 数据集中的数据自拟\n",
    "2. 将姓名为“李明”学生的期中成绩改为100\n",
    "3. 提取出期末成绩大于90分的学生信息\n",
    "4. 删除第2位同学的数据\n",
    "5. 删除“性别”这一列的所有数据\n",
    "6. 增加一列“总成绩”，总成绩=40%期中成绩+60%期末成绩"
   ]
  },
  {
   "cell_type": "markdown",
   "id": "f1c41ace",
   "metadata": {},
   "source": [
    "#### 1. 创建数据集"
   ]
  },
  {
   "cell_type": "code",
   "execution_count": 23,
   "id": "bd149980",
   "metadata": {},
   "outputs": [
    {
     "name": "stdout",
     "output_type": "stream",
     "text": [
      "   姓名    学号  班级 性别  年龄  期中成绩  期末成绩\n",
      "0  张兰  S001  A班  女  19    88    92\n",
      "1  李明  S002  B班  男  20    92    95\n",
      "2  王红  S003  A班  女  21    85    88\n",
      "3  赵宇  S004  C班  男  22    78    80\n",
      "4  陈丽  S005  B班  女  20    90    94\n"
     ]
    }
   ],
   "source": [
    "data = {\n",
    "    '姓名': ['张兰', '李明', '王红', '赵宇', '陈丽'],\n",
    "    '学号': ['S001', 'S002', 'S003', 'S004', 'S005'],\n",
    "    '班级': ['A班', 'B班', 'A班', 'C班', 'B班'],\n",
    "    '性别': ['女', '男', '女', '男', '女'],\n",
    "    '年龄': [19, 20, 21, 22, 20],\n",
    "    '期中成绩': [88, 92, 85, 78, 90],\n",
    "    '期末成绩': [92, 95, 88, 80, 94]\n",
    "}\n",
    "\n",
    "student_df = pd.DataFrame(data)\n",
    "\n",
    "print(student_df)\n"
   ]
  },
  {
   "cell_type": "markdown",
   "id": "8f5148ee",
   "metadata": {},
   "source": [
    "#### 2. 将姓名为“李明”学生的期中成绩改为100"
   ]
  },
  {
   "cell_type": "code",
   "execution_count": 24,
   "id": "e536ff05",
   "metadata": {},
   "outputs": [
    {
     "name": "stdout",
     "output_type": "stream",
     "text": [
      "   姓名    学号  班级 性别  年龄  期中成绩  期末成绩\n",
      "0  张兰  S001  A班  女  19    88    92\n",
      "1  李明  S002  B班  男  20   100    95\n",
      "2  王红  S003  A班  女  21    85    88\n",
      "3  赵宇  S004  C班  男  22    78    80\n",
      "4  陈丽  S005  B班  女  20    90    94\n"
     ]
    }
   ],
   "source": [
    "student_df.loc[student_df['姓名'] == '李明', '期中成绩'] = 100\n",
    "print(student_df)\n"
   ]
  },
  {
   "cell_type": "markdown",
   "id": "f634a181",
   "metadata": {},
   "source": [
    "#### 3. 提取出期末成绩大于90分的学生信息"
   ]
  },
  {
   "cell_type": "code",
   "execution_count": 25,
   "id": "6c161d63",
   "metadata": {},
   "outputs": [
    {
     "name": "stdout",
     "output_type": "stream",
     "text": [
      "   姓名    学号  班级 性别  年龄  期中成绩  期末成绩\n",
      "0  张兰  S001  A班  女  19    88    92\n",
      "1  李明  S002  B班  男  20   100    95\n",
      "4  陈丽  S005  B班  女  20    90    94\n"
     ]
    }
   ],
   "source": [
    "high_score_students = student_df[student_df['期末成绩'] > 90]\n",
    "\n",
    "print(high_score_students)"
   ]
  },
  {
   "cell_type": "markdown",
   "id": "82b81ddf",
   "metadata": {},
   "source": [
    "#### 4. 删除第2位同学的数据"
   ]
  },
  {
   "cell_type": "code",
   "execution_count": 26,
   "id": "5b606a03",
   "metadata": {},
   "outputs": [
    {
     "name": "stdout",
     "output_type": "stream",
     "text": [
      "   姓名    学号  班级 性别  年龄  期中成绩  期末成绩\n",
      "0  张兰  S001  A班  女  19    88    92\n",
      "1  王红  S003  A班  女  21    85    88\n",
      "2  赵宇  S004  C班  男  22    78    80\n",
      "3  陈丽  S005  B班  女  20    90    94\n"
     ]
    }
   ],
   "source": [
    "student_df = student_df.drop(1)\n",
    "\n",
    "# 重新设置索引，使索引连续\n",
    "student_df = student_df.reset_index(drop=True)\n",
    "\n",
    "\n",
    "print(student_df)"
   ]
  },
  {
   "cell_type": "markdown",
   "id": "fce7bef8",
   "metadata": {},
   "source": [
    "#### 5. 删除“性别”这一列的所有数据"
   ]
  },
  {
   "cell_type": "code",
   "execution_count": 27,
   "id": "485dd5c8",
   "metadata": {},
   "outputs": [
    {
     "name": "stdout",
     "output_type": "stream",
     "text": [
      "   姓名    学号  班级  年龄  期中成绩  期末成绩\n",
      "0  张兰  S001  A班  19    88    92\n",
      "1  王红  S003  A班  21    85    88\n",
      "2  赵宇  S004  C班  22    78    80\n",
      "3  陈丽  S005  B班  20    90    94\n"
     ]
    }
   ],
   "source": [
    "del student_df['性别']\n",
    "\n",
    "print(student_df)"
   ]
  },
  {
   "cell_type": "markdown",
   "id": "af4e557c",
   "metadata": {},
   "source": [
    "#### 6. 增加一列“总成绩”，总成绩=40%期中成绩+60%期末成绩"
   ]
  },
  {
   "cell_type": "code",
   "execution_count": 29,
   "id": "8ff25b32",
   "metadata": {},
   "outputs": [
    {
     "name": "stdout",
     "output_type": "stream",
     "text": [
      "   姓名    学号  班级  年龄  期中成绩  期末成绩   总成绩\n",
      "0  张兰  S001  A班  19    88    92  90.4\n",
      "1  王红  S003  A班  21    85    88  86.8\n",
      "2  赵宇  S004  C班  22    78    80  79.2\n",
      "3  陈丽  S005  B班  20    90    94  92.4\n"
     ]
    }
   ],
   "source": [
    "student_df['总成绩'] = 0.4 * student_df['期中成绩'] + 0.6 * student_df['期末成绩']\n",
    "\n",
    "print(student_df)"
   ]
  },
  {
   "cell_type": "code",
   "execution_count": null,
   "id": "7a60b281",
   "metadata": {},
   "outputs": [],
   "source": []
  }
 ],
 "metadata": {
  "kernelspec": {
   "display_name": "Python 3 (ipykernel)",
   "language": "python",
   "name": "python3"
  },
  "language_info": {
   "codemirror_mode": {
    "name": "ipython",
    "version": 3
   },
   "file_extension": ".py",
   "mimetype": "text/x-python",
   "name": "python",
   "nbconvert_exporter": "python",
   "pygments_lexer": "ipython3",
   "version": "3.11.4"
  }
 },
 "nbformat": 4,
 "nbformat_minor": 5
}
