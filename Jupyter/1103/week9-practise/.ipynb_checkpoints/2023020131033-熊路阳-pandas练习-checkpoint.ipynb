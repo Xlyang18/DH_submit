{
 "cells": [
  {
   "cell_type": "markdown",
   "id": "4428694c",
   "metadata": {},
   "source": [
    "## 学号 姓名 pandas练习1"
   ]
  },
  {
   "cell_type": "markdown",
   "id": "455aaf5b",
   "metadata": {},
   "source": [
    "### 一、Series基本操作"
   ]
  },
  {
   "cell_type": "markdown",
   "id": "6f51092e",
   "metadata": {},
   "source": [
    "#### 1. 使用list构造一个 Series，列表内容自定义，长度建议为5-8个元素"
   ]
  },
  {
   "cell_type": "code",
   "execution_count": null,
   "id": "5c8132f0",
   "metadata": {},
   "outputs": [],
   "source": []
  },
  {
   "cell_type": "markdown",
   "id": "b19e3656",
   "metadata": {},
   "source": [
    "#### 2. 访问Series对象的values属性和index属性"
   ]
  },
  {
   "cell_type": "code",
   "execution_count": null,
   "id": "e006d72b",
   "metadata": {},
   "outputs": [],
   "source": []
  },
  {
   "cell_type": "markdown",
   "id": "9c5718fe",
   "metadata": {},
   "source": [
    "#### 3. 任意访问单个元素值"
   ]
  },
  {
   "cell_type": "code",
   "execution_count": null,
   "id": "0b241f57",
   "metadata": {},
   "outputs": [],
   "source": []
  },
  {
   "cell_type": "markdown",
   "id": "9be5812d",
   "metadata": {},
   "source": [
    "#### 4. 通过index列表选择Series对象的多个元素值"
   ]
  },
  {
   "cell_type": "code",
   "execution_count": null,
   "id": "b8c4d10e",
   "metadata": {},
   "outputs": [],
   "source": []
  },
  {
   "cell_type": "markdown",
   "id": "b2dd85ca",
   "metadata": {},
   "source": [
    "#### 5. 通过赋值改变Series对象的index，使其为以小写字母'a'开始的连续字符"
   ]
  },
  {
   "cell_type": "code",
   "execution_count": null,
   "id": "bd5759c0",
   "metadata": {},
   "outputs": [],
   "source": []
  },
  {
   "cell_type": "markdown",
   "id": "9782c92c",
   "metadata": {},
   "source": [
    "#### 6. 通过赋值改变Series对象value"
   ]
  },
  {
   "cell_type": "code",
   "execution_count": null,
   "id": "1319a7b9",
   "metadata": {},
   "outputs": [],
   "source": []
  },
  {
   "cell_type": "markdown",
   "id": "45171b09",
   "metadata": {},
   "source": [
    "#### 7. 基于字典创建Series对象，字典内容为自定义的一组学生的信息（学号、姓名、年龄、性别……），字典元素5-8个"
   ]
  },
  {
   "cell_type": "code",
   "execution_count": null,
   "id": "d908074f",
   "metadata": {},
   "outputs": [],
   "source": []
  },
  {
   "cell_type": "markdown",
   "id": "8371e934",
   "metadata": {},
   "source": [
    "#### 8. 创建一个指定index属性的Series对象，内容长度请自定义"
   ]
  },
  {
   "cell_type": "code",
   "execution_count": null,
   "id": "df27bd57",
   "metadata": {},
   "outputs": [],
   "source": []
  },
  {
   "cell_type": "markdown",
   "id": "830af58b",
   "metadata": {},
   "source": [
    "### 二、DataFrame基本操作"
   ]
  },
  {
   "cell_type": "markdown",
   "id": "d742acc6",
   "metadata": {},
   "source": [
    "#### 1. 基于字典构造一个DataFrame对象，字典内容自定义，长度建议为5-8个元素"
   ]
  },
  {
   "cell_type": "code",
   "execution_count": null,
   "id": "17534056",
   "metadata": {},
   "outputs": [],
   "source": []
  },
  {
   "cell_type": "markdown",
   "id": "1899f727",
   "metadata": {},
   "source": [
    "#### 2. 获取DataFrame对象的任意一列，并且查看其类型"
   ]
  },
  {
   "cell_type": "code",
   "execution_count": null,
   "id": "a727390c",
   "metadata": {},
   "outputs": [],
   "source": []
  },
  {
   "cell_type": "markdown",
   "id": "ac4ca487",
   "metadata": {},
   "source": [
    "#### 3. DataFrame对象具有一些基本的统计方法，它们是按列进行计算的，返回的结果是一个Series对象。 要求计算每列的均值和每列之和。"
   ]
  },
  {
   "cell_type": "code",
   "execution_count": null,
   "id": "4805d260",
   "metadata": {},
   "outputs": [],
   "source": []
  },
  {
   "cell_type": "markdown",
   "id": "8bb4a3b2",
   "metadata": {},
   "source": [
    "### 三、综合练习"
   ]
  },
  {
   "cell_type": "markdown",
   "id": "b8af9e39",
   "metadata": {},
   "source": [
    "1. 创建一个DataFrame表示5位同学（张兰，李明等）,具体要求如下：\n",
    " - 数据集列名（共7列）：姓名、学号、班级、性别、年龄、期中成绩、期末成绩\n",
    " - 数据集中的数据自拟\n",
    "2. 将姓名为“李明”学生的期中成绩改为100\n",
    "3. 提取出期末成绩大于90分的学生信息\n",
    "4. 删除第2位同学的数据\n",
    "5. 删除“性别”这一列的所有数据\n",
    "6. 增加一列“总成绩”，总成绩=40%期中成绩+60%期末成绩"
   ]
  },
  {
   "cell_type": "markdown",
   "id": "f1c41ace",
   "metadata": {},
   "source": [
    "#### 1. 创建数据集"
   ]
  },
  {
   "cell_type": "code",
   "execution_count": null,
   "id": "bd149980",
   "metadata": {},
   "outputs": [],
   "source": []
  },
  {
   "cell_type": "markdown",
   "id": "8f5148ee",
   "metadata": {},
   "source": [
    "#### 2. 将姓名为“李明”学生的期中成绩改为100"
   ]
  },
  {
   "cell_type": "code",
   "execution_count": null,
   "id": "e536ff05",
   "metadata": {},
   "outputs": [],
   "source": []
  },
  {
   "cell_type": "markdown",
   "id": "f634a181",
   "metadata": {},
   "source": [
    "#### 3. 提取出期末成绩大于90分的学生信息"
   ]
  },
  {
   "cell_type": "code",
   "execution_count": null,
   "id": "6c161d63",
   "metadata": {},
   "outputs": [],
   "source": []
  },
  {
   "cell_type": "markdown",
   "id": "82b81ddf",
   "metadata": {},
   "source": [
    "#### 4. 删除第2位同学的数据"
   ]
  },
  {
   "cell_type": "code",
   "execution_count": null,
   "id": "5b606a03",
   "metadata": {},
   "outputs": [],
   "source": []
  },
  {
   "cell_type": "markdown",
   "id": "fce7bef8",
   "metadata": {},
   "source": [
    "#### 5. 删除“性别”这一列的所有数据"
   ]
  },
  {
   "cell_type": "code",
   "execution_count": null,
   "id": "485dd5c8",
   "metadata": {},
   "outputs": [],
   "source": []
  },
  {
   "cell_type": "markdown",
   "id": "af4e557c",
   "metadata": {},
   "source": [
    "#### 6. 增加一列“总成绩”，总成绩=40%期中成绩+60%期末成绩"
   ]
  },
  {
   "cell_type": "code",
   "execution_count": null,
   "id": "8ff25b32",
   "metadata": {},
   "outputs": [],
   "source": []
  }
 ],
 "metadata": {
  "kernelspec": {
   "display_name": "Python 3 (ipykernel)",
   "language": "python",
   "name": "python3"
  },
  "language_info": {
   "codemirror_mode": {
    "name": "ipython",
    "version": 3
   },
   "file_extension": ".py",
   "mimetype": "text/x-python",
   "name": "python",
   "nbconvert_exporter": "python",
   "pygments_lexer": "ipython3",
   "version": "3.11.4"
  }
 },
 "nbformat": 4,
 "nbformat_minor": 5
}
