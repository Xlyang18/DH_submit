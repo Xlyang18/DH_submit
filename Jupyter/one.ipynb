{
 "cells": [
  {
   "cell_type": "code",
   "execution_count": 1,
   "id": "4efaceeb",
   "metadata": {},
   "outputs": [
    {
     "name": "stdout",
     "output_type": "stream",
     "text": [
      "[ 50  51  52  53  54  55  56  57  58  59  60  61  62  63  64  65  66  67\n",
      "  68  69  70  71  72  73  74  75  76  77  78  79  80  81  82  83  84  85\n",
      "  86  87  88  89  90  91  92  93  94  95  96  97  98  99 100]\n"
     ]
    }
   ],
   "source": [
    "#1\n",
    "import numpy as np\n",
    "\n",
    "A = np.arange(150)\n",
    "\n",
    "subset = A[50:101]\n",
    "\n",
    "print(subset)"
   ]
  },
  {
   "cell_type": "code",
   "execution_count": 2,
   "id": "0d0865cb",
   "metadata": {},
   "outputs": [
    {
     "name": "stdout",
     "output_type": "stream",
     "text": [
      "[[1 0 2]\n",
      " [4 3 5]\n",
      " [7 6 8]]\n"
     ]
    }
   ],
   "source": [
    "#2\n",
    "arr = np.arange(9).reshape(3, 3)\n",
    "\n",
    "arr[:, [0, 1]] = arr[:, [1, 0]]\n",
    "\n",
    "print(arr)"
   ]
  },
  {
   "cell_type": "code",
   "execution_count": 8,
   "id": "6528ede9",
   "metadata": {},
   "outputs": [
    {
     "ename": "ValueError",
     "evalue": "could not broadcast input array from shape (2,3) into shape (1,3)",
     "output_type": "error",
     "traceback": [
      "\u001b[0;31m---------------------------------------------------------------------------\u001b[0m",
      "\u001b[0;31mValueError\u001b[0m                                Traceback (most recent call last)",
      "Cell \u001b[0;32mIn[8], line 5\u001b[0m\n\u001b[1;32m      3\u001b[0m temp \u001b[38;5;241m=\u001b[39m np\u001b[38;5;241m.\u001b[39mcopy(arr[\u001b[38;5;241m-\u001b[39m\u001b[38;5;241m2\u001b[39m:]) \n\u001b[1;32m      4\u001b[0m arr[\u001b[38;5;241m-\u001b[39m\u001b[38;5;241m2\u001b[39m:] \u001b[38;5;241m=\u001b[39m arr[\u001b[38;5;241m-\u001b[39m\u001b[38;5;241m1\u001b[39m:]       \n\u001b[0;32m----> 5\u001b[0m arr[\u001b[38;5;241m-\u001b[39m\u001b[38;5;241m1\u001b[39m:] \u001b[38;5;241m=\u001b[39m temp  \n\u001b[1;32m      6\u001b[0m \u001b[38;5;28mprint\u001b[39m(arr)\n",
      "\u001b[0;31mValueError\u001b[0m: could not broadcast input array from shape (2,3) into shape (1,3)"
     ]
    }
   ],
   "source": [
    "#3\n",
    "arr = np.arange(9).reshape(3, 3)\n",
    "\n",
    "arr[[1, 2], :] = arr[[2, 1], :]\n",
    "\n",
    "print(arr)"
   ]
  },
  {
   "cell_type": "code",
   "execution_count": 4,
   "id": "8f017a09",
   "metadata": {},
   "outputs": [
    {
     "name": "stdout",
     "output_type": "stream",
     "text": [
      "[0.92836375 0.9278969  0.84290701 0.61353801 0.59551015 0.59015135\n",
      " 0.47817726 0.38661673 0.25519806 0.10319837]\n"
     ]
    }
   ],
   "source": [
    "#4\n",
    "import numpy as np\n",
    "\n",
    "random_array = np.random.rand(10)\n",
    "\n",
    "sorted_array = np.sort(random_array)[::-1]\n",
    "\n",
    "print(sorted_array)"
   ]
  },
  {
   "cell_type": "code",
   "execution_count": 5,
   "id": "6e4b2349",
   "metadata": {},
   "outputs": [],
   "source": [
    "# 5\n"
   ]
  },
  {
   "cell_type": "code",
   "execution_count": 10,
   "id": "522bd32c",
   "metadata": {},
   "outputs": [
    {
     "name": "stdout",
     "output_type": "stream",
     "text": [
      "[1 2 3 4 5 6]\n"
     ]
    }
   ],
   "source": [
    "#6\n",
    "B = np.array([1,2,3,2,3,4,3,4,5,6])\n",
    "\n",
    "unique_B = np.unique(B)\n",
    "\n",
    "print(unique_B)"
   ]
  },
  {
   "cell_type": "code",
   "execution_count": 11,
   "id": "542ec1a2",
   "metadata": {},
   "outputs": [
    {
     "name": "stdout",
     "output_type": "stream",
     "text": [
      "[2 5 8]\n"
     ]
    }
   ],
   "source": [
    "#7\n",
    "C = np.arange(9).reshape(3, 3)\n",
    "\n",
    "max_values = np.max(C, axis=1)\n",
    "\n",
    "print(max_values)"
   ]
  },
  {
   "cell_type": "code",
   "execution_count": 12,
   "id": "ffc9e27b",
   "metadata": {},
   "outputs": [
    {
     "name": "stdout",
     "output_type": "stream",
     "text": [
      "9\n"
     ]
    }
   ],
   "source": [
    "#8\n",
    "D = np.array([7, 2, 10, 2, 7, 4,9, 4,9, 8])\n",
    "\n",
    "partitioned_D = np.partition(D, -2)\n",
    "\n",
    "# 提取第二大值\n",
    "second_largest = partitioned_D[-2]\n",
    "\n",
    "# 打印第二大值\n",
    "print(second_largest)"
   ]
  },
  {
   "cell_type": "code",
   "execution_count": 13,
   "id": "8b8b3d7e",
   "metadata": {},
   "outputs": [
    {
     "name": "stdout",
     "output_type": "stream",
     "text": [
      "[-1  2 -1  4 -1  6 -1  8 -1]\n"
     ]
    }
   ],
   "source": [
    "# 9\n",
    "arr = np.array([1, 2, 3, 4, 5, 6, 7, 8, 9])\n",
    "\n",
    "arr[arr % 2 != 0] = -1\n",
    "\n",
    "print(arr)"
   ]
  },
  {
   "cell_type": "code",
   "execution_count": 16,
   "id": "12258118",
   "metadata": {},
   "outputs": [
    {
     "name": "stdout",
     "output_type": "stream",
     "text": [
      "欧式距离: 11.180339887498949\n"
     ]
    }
   ],
   "source": [
    "#10\n",
    "import numpy as np\n",
    "\n",
    "# 创建数组a和数组b\n",
    "a = np.array([1,2,3,4,5])\n",
    "b = np.array([6,7,8,9,10])\n",
    "\n",
    "# 计算欧式距离\n",
    "distance = np.linalg.norm(a - b)\n",
    "\n",
    "# 打印欧式距离\n",
    "print(\"欧式距离:\", distance)\n"
   ]
  },
  {
   "cell_type": "code",
   "execution_count": null,
   "id": "8d8e6804",
   "metadata": {},
   "outputs": [],
   "source": []
  }
 ],
 "metadata": {
  "kernelspec": {
   "display_name": "Python 3 (ipykernel)",
   "language": "python",
   "name": "python3"
  },
  "language_info": {
   "codemirror_mode": {
    "name": "ipython",
    "version": 3
   },
   "file_extension": ".py",
   "mimetype": "text/x-python",
   "name": "python",
   "nbconvert_exporter": "python",
   "pygments_lexer": "ipython3",
   "version": "3.11.4"
  }
 },
 "nbformat": 4,
 "nbformat_minor": 5
}
