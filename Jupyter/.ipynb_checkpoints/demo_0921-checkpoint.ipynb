{
 "cells": [
  {
   "cell_type": "markdown",
   "id": "b0075eaf",
   "metadata": {},
   "source": [
    "# 作业提交\n",
    "- 姓名：熊路阳\n",
    "- 班级：23级计算机科学与技术Z1班\n",
    "- 学号：2023020131033"
   ]
  },
  {
   "cell_type": "code",
   "execution_count": 1,
   "id": "e9f880c5",
   "metadata": {},
   "outputs": [
    {
     "name": "stdout",
     "output_type": "stream",
     "text": [
      "[[10 11 12 13 14 15 16]\n",
      " [17 18 19 20 21 22 23]\n",
      " [24 25 26 27 28 29 30]\n",
      " [31 32 33 34 35 36 37]\n",
      " [38 39 40 41 42 43 44]\n",
      " [45 46 47 48 49 50 51]\n",
      " [52 53 54 55 56 57 58]]\n"
     ]
    }
   ],
   "source": [
    "# 创建一个元素从10开始，形状为7行7列的ndarray对象D1：\n",
    "import numpy as np\n",
    "\n",
    "D1 = np.arange(10, 10 + 7 * 7).reshape(7, 7)\n",
    "print(D1)\n"
   ]
  },
  {
   "cell_type": "code",
   "execution_count": 2,
   "id": "b32b78bf",
   "metadata": {},
   "outputs": [
    {
     "name": "stdout",
     "output_type": "stream",
     "text": [
      "[[58 57 56 55 54 53 52]\n",
      " [51 50 49 48 47 46 45]\n",
      " [44 43 42 41 40 39 38]\n",
      " [37 36 35 34 33 32 31]\n",
      " [30 29 28 27 26 25 24]\n",
      " [23 22 21 20 19 18 17]\n",
      " [16 15 14 13 12 11 10]]\n"
     ]
    }
   ],
   "source": [
    "# 将D1的所有元素位置顺序向上翻转：\n",
    "D1_reversed = np.flip(D1)\n",
    "print(D1_reversed)"
   ]
  },
  {
   "cell_type": "code",
   "execution_count": 3,
   "id": "5f10a327",
   "metadata": {
    "scrolled": true
   },
   "outputs": [
    {
     "name": "stdout",
     "output_type": "stream",
     "text": [
      "[[ 0  0  0  0  0  0  0]\n",
      " [ 0  0  0 20  0 22  0]\n",
      " [24  0 26  0 28  0 30]\n",
      " [ 0 32  0 34  0 36  0]\n",
      " [38  0 40  0 42  0 44]\n",
      " [ 0 46  0 48  0 50  0]\n",
      " [52  0 54  0 56  0 58]]\n"
     ]
    }
   ],
   "source": [
    "# 删除数据库D1中小于20的奇数：\n",
    "D1[D1 % 2 == 1] = 0\n",
    "D1[D1 < 20] = 0\n",
    "print(D1)"
   ]
  },
  {
   "cell_type": "code",
   "execution_count": 5,
   "id": "596bd9ba",
   "metadata": {},
   "outputs": [
    {
     "name": "stdout",
     "output_type": "stream",
     "text": [
      "[[1. 1. 1. 1. 1. 1. 1. 1. 1. 1.]\n",
      " [1. 0. 0. 0. 0. 0. 0. 0. 0. 1.]\n",
      " [1. 0. 0. 0. 0. 0. 0. 0. 0. 1.]\n",
      " [1. 0. 0. 0. 0. 0. 0. 0. 0. 1.]\n",
      " [1. 0. 0. 0. 0. 0. 0. 0. 0. 1.]\n",
      " [1. 0. 0. 0. 0. 0. 0. 0. 0. 1.]\n",
      " [1. 0. 0. 0. 0. 0. 0. 0. 0. 1.]\n",
      " [1. 0. 0. 0. 0. 0. 0. 0. 0. 1.]\n",
      " [1. 0. 0. 0. 0. 0. 0. 0. 0. 1.]\n",
      " [1. 1. 1. 1. 1. 1. 1. 1. 1. 1.]]\n"
     ]
    }
   ],
   "source": [
    "# 创建一个10x10的ndarray对象，矩阵边界全为1，里面全为0：\n",
    "matrix = np.zeros((10, 10))\n",
    "matrix[0, :] = 1\n",
    "matrix[-1, :] = 1\n",
    "matrix[:, 0] = 1\n",
    "matrix[:, -1] = 1\n",
    "print(matrix)"
   ]
  },
  {
   "cell_type": "code",
   "execution_count": 6,
   "id": "b2af53f1",
   "metadata": {},
   "outputs": [
    {
     "name": "stdout",
     "output_type": "stream",
     "text": [
      "[0.         0.09090909 0.18181818 0.27272727 0.36363636 0.45454545\n",
      " 0.54545455 0.63636364 0.72727273 0.81818182 0.90909091 1.        ]\n"
     ]
    }
   ],
   "source": [
    "# 创建一个范围在(0,1)之间的长度为12的等差数列：\n",
    "sequence = np.linspace(0, 1, 12)\n",
    "print(sequence)"
   ]
  },
  {
   "cell_type": "code",
   "execution_count": 7,
   "id": "f7a8ec1c",
   "metadata": {},
   "outputs": [
    {
     "name": "stdout",
     "output_type": "stream",
     "text": [
      "[[0 1 2 3 4 1 1 1 1 1]\n",
      " [5 6 7 8 9 1 1 1 1 1]]\n"
     ]
    }
   ],
   "source": [
    "# 将数据库a = np.arange(10).reshape(2,-1)和数据库b = np.repeat(1,10).reshape(2,-1) 水平：\n",
    "a = np.arange(10).reshape(2, -1)\n",
    "b = np.repeat(1, 10).reshape(2, -1)\n",
    "stacked = np.hstack((a, b))\n",
    "print(stacked)\n"
   ]
  }
 ],
 "metadata": {
  "kernelspec": {
   "display_name": "Python 3 (ipykernel)",
   "language": "python",
   "name": "python3"
  },
  "language_info": {
   "codemirror_mode": {
    "name": "ipython",
    "version": 3
   },
   "file_extension": ".py",
   "mimetype": "text/x-python",
   "name": "python",
   "nbconvert_exporter": "python",
   "pygments_lexer": "ipython3",
   "version": "3.11.4"
  }
 },
 "nbformat": 4,
 "nbformat_minor": 5
}
