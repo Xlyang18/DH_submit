{
 "cells": [
  {
   "cell_type": "markdown",
   "id": "5604138d",
   "metadata": {},
   "source": [
    "# 作业提交\n",
    "- 日期：9月22日\n",
    "- 姓名：熊路阳\n",
    "- 班级：23级计算机科学与技术Z1班\n",
    "- 学号：2023020131033\n",
    "\n",
    "\n",
    "由于每次解决后续题目时，arr的值都会在之前的运行过程中被更改，/n\n",
    "因此第一段代码被多次重新执行，/n\n",
    "导致数字序号紊乱，造成阅读不便！十分抱歉"
   ]
  },
  {
   "cell_type": "code",
   "execution_count": 12,
   "id": "ed5b8eb6",
   "metadata": {},
   "outputs": [
    {
     "name": "stdout",
     "output_type": "stream",
     "text": [
      "[[100 101 102 103 104]\n",
      " [105 106 107 108 109]\n",
      " [110 111 112 113 114]]\n"
     ]
    }
   ],
   "source": [
    "# 从100开始按顺序创建一个的3*5的二维数组arr\n",
    "import numpy as np\n",
    "\n",
    "arr = np.arange(100, 100 + 3*5).reshape(3, 5)\n",
    "print(arr)"
   ]
  },
  {
   "cell_type": "code",
   "execution_count": 9,
   "id": "255aa8d7",
   "metadata": {},
   "outputs": [
    {
     "name": "stdout",
     "output_type": "stream",
     "text": [
      "[[10.         10.04987562 10.09950494 10.14889157 10.19803903]\n",
      " [10.24695077 10.29563014 10.34408043 10.39230485 10.44030651]\n",
      " [10.48808848 10.53565375 10.58300524 10.63014581 10.67707825]]\n",
      "-----------------\n",
      "[[102 103 104 105 106]\n",
      " [107 108 109 110 111]\n",
      " [112 113 114 115 116]]\n"
     ]
    }
   ],
   "source": [
    "# 对arr数组求平方根arr _sq=;将arr数组与2相加\n",
    "arr_sq = np.sqrt(arr)\n",
    "print(arr_sq)\n",
    "print(\"-----------------\")\n",
    "arr=arr+2\n",
    "print(arr)"
   ]
  },
  {
   "cell_type": "code",
   "execution_count": 15,
   "id": "d1ba04ad",
   "metadata": {},
   "outputs": [
    {
     "name": "stdout",
     "output_type": "stream",
     "text": [
      "[[30.         30.14962686 30.29851482 30.4466747  30.59411708]\n",
      " [30.7408523  30.88689042 31.0322413  31.17691454 31.32091953]\n",
      " [31.46426545 31.60696126 31.74901573 31.89043744 32.03123476]]\n",
      "-----------------\n",
      "[[0.         0.14962686 0.29851482 0.4466747  0.59411708]\n",
      " [0.7408523  0.88689042 0.0322413  0.17691454 0.32091953]\n",
      " [0.46426545 0.60696126 0.74901573 0.89043744 0.03123476]]\n",
      "-----------------\n",
      "[[30. 30. 30. 30. 30.]\n",
      " [30. 30. 31. 31. 31.]\n",
      " [31. 31. 31. 31. 32.]]\n"
     ]
    }
   ],
   "source": [
    "# 将arr数组的平方根乘3赋值给数组arr_f,并将arr f浮点数分解成整数arr f1和小数arr f2\n",
    "arr_f = np.sqrt(arr) * 3\n",
    "print(arr_f)\n",
    "print(\"-----------------\")\n",
    "arr_f1, arr_f2 = np.modf(arr_f)\n",
    "\n",
    "print(arr_f1)\n",
    "print(\"-----------------\")\n",
    "print(arr_f2)"
   ]
  },
  {
   "cell_type": "code",
   "execution_count": 17,
   "id": "dd20b90e",
   "metadata": {},
   "outputs": [
    {
     "name": "stdout",
     "output_type": "stream",
     "text": [
      "32.03123475609394\n",
      "-----------------\n",
      "100\n"
     ]
    }
   ],
   "source": [
    "# 求arr_f的最大值,与arr每一列的最小值,并给出对应索引\n",
    "arr_f_max = np.max(arr_f)\n",
    "arr_min = np.min(arr)\n",
    "print(arr_f_max)\n",
    "print(\"-----------------\")\n",
    "print(arr_min)"
   ]
  },
  {
   "cell_type": "code",
   "execution_count": 19,
   "id": "2e45c240",
   "metadata": {},
   "outputs": [
    {
     "name": "stdout",
     "output_type": "stream",
     "text": [
      "[[0 1 2]\n",
      " [3 4 5]]\n",
      "-----------------\n",
      "[0 1 2]\n"
     ]
    }
   ],
   "source": [
    "# 创建0开始按顺序创建2*3列二维数组arr a ,以及0开始按顺序创建3个元素的一维数组arr b\n",
    "arr_a = np.arange(6).reshape(2, 3)\n",
    "arr_b = np.arange(3)\n",
    "print(arr_a)\n",
    "print(\"-----------------\")\n",
    "print(arr_b)"
   ]
  },
  {
   "cell_type": "code",
   "execution_count": 22,
   "id": "2d9da5d3",
   "metadata": {},
   "outputs": [
    {
     "name": "stdout",
     "output_type": "stream",
     "text": [
      "[ 5 14]\n",
      "[ 5 14]\n"
     ]
    }
   ],
   "source": [
    "dot_ab = np.dot(arr_a, arr_b)\n",
    "inner_ab = np.inner(arr_a, arr_b)\n",
    "print(dot_ab)\n",
    "print(inner_ab)"
   ]
  }
 ],
 "metadata": {
  "kernelspec": {
   "display_name": "Python 3 (ipykernel)",
   "language": "python",
   "name": "python3"
  },
  "language_info": {
   "codemirror_mode": {
    "name": "ipython",
    "version": 3
   },
   "file_extension": ".py",
   "mimetype": "text/x-python",
   "name": "python",
   "nbconvert_exporter": "python",
   "pygments_lexer": "ipython3",
   "version": "3.11.4"
  }
 },
 "nbformat": 4,
 "nbformat_minor": 5
}
